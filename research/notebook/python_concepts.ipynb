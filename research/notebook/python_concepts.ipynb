{
 "cells": [
  {
   "cell_type": "code",
   "execution_count": 1,
   "metadata": {},
   "outputs": [],
   "source": [
    "from collections import namedtuple"
   ]
  },
  {
   "cell_type": "code",
   "execution_count": 2,
   "metadata": {},
   "outputs": [],
   "source": [
    "\"\"\"\n",
    "A named tuple that represents the configuration for data ingestion.\n",
    "\n",
    "Attributes:\n",
    "    dataset_download_url (str): The URL to download the dataset.\n",
    "    tgz_download_dir (str): The directory to store the downloaded .tgz file.\n",
    "    raw_data_dir (str): The directory to store the raw data.\n",
    "    ingested_train_dir (str): The directory to store the ingested training data.\n",
    "    ingested_test_dir (str): The directory to store the ingested testing data.\n",
    "\"\"\"\n",
    "DataIngestionConfig = namedtuple(\n",
    "    'DataIngestionConfig',\n",
    "    [\n",
    "        'dataset_download_url',\n",
    "        'tgz_download_dir',\n",
    "        'raw_data_dir',\n",
    "        'ingested_train_dir',\n",
    "        'ingested_test_dir'\n",
    "    ]\n",
    ")"
   ]
  },
  {
   "cell_type": "code",
   "execution_count": 6,
   "metadata": {},
   "outputs": [],
   "source": [
    "data_ingestion_config = DataIngestionConfig(\n",
    "    dataset_download_url='https://raw.githubusercontent.com/ageron/handson-ml/master/datasets/housing/housing.tgz',\n",
    "    tgz_download_dir='housing',\n",
    "    raw_data_dir='housing/raw',\n",
    "    ingested_train_dir='housing/ingested/train',\n",
    "    ingested_test_dir='housing/ingested/test'\n",
    ")"
   ]
  },
  {
   "cell_type": "code",
   "execution_count": 8,
   "metadata": {},
   "outputs": [
    {
     "data": {
      "text/plain": [
       "'housing/raw'"
      ]
     },
     "execution_count": 8,
     "metadata": {},
     "output_type": "execute_result"
    }
   ],
   "source": [
    "data_ingestion_config.raw_data_dir"
   ]
  },
  {
   "cell_type": "code",
   "execution_count": null,
   "metadata": {},
   "outputs": [],
   "source": []
  }
 ],
 "metadata": {
  "kernelspec": {
   "display_name": "ml",
   "language": "python",
   "name": "python3"
  },
  "language_info": {
   "codemirror_mode": {
    "name": "ipython",
    "version": 3
   },
   "file_extension": ".py",
   "mimetype": "text/x-python",
   "name": "python",
   "nbconvert_exporter": "python",
   "pygments_lexer": "ipython3",
   "version": "3.9.17"
  },
  "orig_nbformat": 4
 },
 "nbformat": 4,
 "nbformat_minor": 2
}
